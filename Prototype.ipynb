{
  "nbformat": 4,
  "nbformat_minor": 0,
  "metadata": {
    "colab": {
      "provenance": [],
      "include_colab_link": true
    },
    "kernelspec": {
      "name": "python3",
      "display_name": "Python 3"
    },
    "language_info": {
      "name": "python"
    }
  },
  "cells": [
    {
      "cell_type": "markdown",
      "metadata": {
        "id": "view-in-github",
        "colab_type": "text"
      },
      "source": [
        "<a href=\"https://colab.research.google.com/github/karunaadh/UTESCA-Mother-Parkers/blob/main/Prototype.ipynb\" target=\"_parent\"><img src=\"https://colab.research.google.com/assets/colab-badge.svg\" alt=\"Open In Colab\"/></a>"
      ]
    },
    {
      "cell_type": "markdown",
      "source": [
        "# 1. Setup & Load Data\n",
        "1.1 Install Dependencies & Setup"
      ],
      "metadata": {
        "id": "MIk3AlQBZ8xu"
      }
    },
    {
      "cell_type": "code",
      "source": [
        "from google.colab import drive\n",
        "drive.mount('/content/drive')\n"
      ],
      "metadata": {
        "id": "CD4Eo3OxlKlx",
        "colab": {
          "base_uri": "https://localhost:8080/"
        },
        "outputId": "2aa8de4d-64e2-4f02-a9c4-410e82a7fe42"
      },
      "execution_count": 1,
      "outputs": [
        {
          "output_type": "stream",
          "name": "stdout",
          "text": [
            "Mounted at /content/drive\n"
          ]
        }
      ]
    },
    {
      "cell_type": "code",
      "execution_count": null,
      "metadata": {
        "colab": {
          "base_uri": "https://localhost:8080/"
        },
        "id": "iQHHmWTSZAqH",
        "outputId": "e8f2d51b-f6bf-4f91-de0e-3e781dd1d4c5"
      },
      "outputs": [
        {
          "output_type": "stream",
          "name": "stdout",
          "text": [
            "Requirement already satisfied: tensorflow in /usr/local/lib/python3.10/dist-packages (2.15.0)\n",
            "Collecting tensorflow-gpu\n",
            "  Downloading tensorflow-gpu-2.12.0.tar.gz (2.6 kB)\n",
            "  \u001b[1;31merror\u001b[0m: \u001b[1msubprocess-exited-with-error\u001b[0m\n",
            "  \n",
            "  \u001b[31m×\u001b[0m \u001b[32mpython setup.py egg_info\u001b[0m did not run successfully.\n",
            "  \u001b[31m│\u001b[0m exit code: \u001b[1;36m1\u001b[0m\n",
            "  \u001b[31m╰─>\u001b[0m See above for output.\n",
            "  \n",
            "  \u001b[1;35mnote\u001b[0m: This error originates from a subprocess, and is likely not a problem with pip.\n",
            "  Preparing metadata (setup.py) ... \u001b[?25l\u001b[?25herror\n",
            "\u001b[1;31merror\u001b[0m: \u001b[1mmetadata-generation-failed\u001b[0m\n",
            "\n",
            "\u001b[31m×\u001b[0m Encountered error while generating package metadata.\n",
            "\u001b[31m╰─>\u001b[0m See above for output.\n",
            "\n",
            "\u001b[1;35mnote\u001b[0m: This is an issue with the package mentioned above, not pip.\n",
            "\u001b[1;36mhint\u001b[0m: See above for details.\n"
          ]
        }
      ],
      "source": [
        "!pip install tensorflow tensorflow-gpu opencv-python matplotlib\n",
        "# !pip list # Uncomment first part to check dependencies/versions\n",
        "import tensorflow as tf\n",
        "import os\n",
        "\n",
        "# Avoid OOM errors by limiting GPU usage growth (might remove later if need code to run faster)\n",
        "gpus = tf.config.emperimental.list_physical_devices('GPU')\n",
        "for gpu in gpus:\n",
        "    tf.config.experimental.set_memory_growth(gpu, True)"
      ]
    },
    {
      "cell_type": "markdown",
      "source": [
        "1.2 Remove Dodgy Images"
      ],
      "metadata": {
        "id": "G_tAhhWjbb-3"
      }
    },
    {
      "cell_type": "code",
      "source": [
        "import cv2\n",
        "import imghdr\n",
        "from matplotlib import pyplot as plt\n",
        "data_dir = 'data'\n",
        "image_exts = ['jpeg', 'jpg', 'bmp', 'png']\n",
        "\n",
        "for image_class in os.listdir(data_dir):\n",
        "  for image in os.listdir(os.path.join(data_dir, image_class)):\n",
        "    image_path = os.path.join(data_dir, image_class, image)\n",
        "    try:\n",
        "      img = cv2.imread(image_path)\n",
        "      tip = imghdr.what(image_path)\n",
        "      if tip not in image_exts:\n",
        "        print('Image not in ext list {}'.format(image_path))\n",
        "        os.remove(image_path)\n",
        "    except Exception as e:\n",
        "      print('Issue with image {}'.format(image_path))"
      ],
      "metadata": {
        "id": "Bx-Rzs01Z0un"
      },
      "execution_count": null,
      "outputs": []
    },
    {
      "cell_type": "markdown",
      "source": [
        "1.3 Load Data"
      ],
      "metadata": {
        "id": "zMysuo0Wh99A"
      }
    },
    {
      "cell_type": "code",
      "source": [
        "import numpy as np\n",
        "data = tf.keras.utils.image_dataset_from_directory('data')\n",
        "data_iterator = data.as_numpy_iterator()\n",
        "# Get another batch from the iterator\n",
        "batch = data_iterator.next()\n",
        "# Images represented as numpy arrays\n",
        "batch[0].shape\n",
        "\n",
        "# list, from guide: (these are the 'batches' i. e. different folders where we\n",
        "#                    will have our separated image folders (based on defect type))\n",
        "#0. full black\n",
        "#1. partial black\n",
        "#2. full sour\n",
        "#3. partial sour\n",
        "#4. fungus damage\n",
        "#5. foreign matter\n",
        "#6. fungus damage\n",
        "#7. foreign matter\n",
        "#8. cherry pod\n",
        "#9. severe insect damage\n",
        "#10. slight insect damage\n",
        "#11. broken/chipped/cut at dry mill\n",
        "#12. broken/chipped/cut at wet mill\n",
        "#13. immature\n",
        "#14. withered\n",
        "#15. shell\n",
        "#16. floater\n",
        "#17. parchment\n",
        "#18. husk\n",
        "\n",
        "fig, ax = plt.subplots(ncols=4, figsize=(20,20))\n",
        "for idx, img in enumerate(batch[0][:4]):\n",
        "  ax[idx].imshow(img.astype(int))\n",
        "  ax[]"
      ],
      "metadata": {
        "id": "BUegYYyuh_q4"
      },
      "execution_count": null,
      "outputs": []
    }
  ]
}